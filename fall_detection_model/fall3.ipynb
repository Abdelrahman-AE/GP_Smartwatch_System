{
  "cells": [
    {
      "cell_type": "code",
      "execution_count": 30,
      "metadata": {
        "id": "LbSX4FgN6UFF"
      },
      "outputs": [],
      "source": [
        "import pandas as pd\n",
        "import numpy as np\n",
        "import matplotlib.pyplot as plt\n",
        "from scipy import stats\n",
        "import tensorflow as tf\n",
        "import seaborn as sns\n",
        "from sklearn import metrics\n",
        "from sklearn.model_selection import train_test_split\n",
        "from sklearn import preprocessing\n",
        "from sklearn.preprocessing import MinMaxScaler, StandardScaler, LabelEncoder\n",
        "from sklearn.svm import SVC\n",
        "from sklearn.ensemble import RandomForestClassifier\n",
        "from sklearn.metrics import accuracy_score, confusion_matrix, classification_report\n",
        "from sklearn.model_selection import cross_val_score, GridSearchCV\n",
        "\n",
        "from tensorflow.keras.utils import to_categorical\n",
        "from tensorflow.keras.models import Sequential\n",
        "from tensorflow.keras.layers import LSTM, Dense"
      ]
    },
    {
      "cell_type": "code",
      "execution_count": 31,
      "metadata": {
        "id": "nbeUkpQV6UFQ"
      },
      "outputs": [],
      "source": [
        "# Read the Excel file into a DataFrame\n",
        "df_train = pd.read_csv('acc_gyr.csv')"
      ]
    },
    {
      "cell_type": "code",
      "execution_count": 32,
      "metadata": {
        "colab": {
          "base_uri": "https://localhost:8080/",
          "height": 206
        },
        "id": "MhXzRBZ26UFT",
        "outputId": "d4195543-2f9d-4e8b-fa13-54162baf9c55"
      },
      "outputs": [
        {
          "data": {
            "text/html": [
              "<div>\n",
              "<style scoped>\n",
              "    .dataframe tbody tr th:only-of-type {\n",
              "        vertical-align: middle;\n",
              "    }\n",
              "\n",
              "    .dataframe tbody tr th {\n",
              "        vertical-align: top;\n",
              "    }\n",
              "\n",
              "    .dataframe thead th {\n",
              "        text-align: right;\n",
              "    }\n",
              "</style>\n",
              "<table border=\"1\" class=\"dataframe\">\n",
              "  <thead>\n",
              "    <tr style=\"text-align: right;\">\n",
              "      <th></th>\n",
              "      <th>xAcc</th>\n",
              "      <th>yAcc</th>\n",
              "      <th>zAcc</th>\n",
              "      <th>xGyro</th>\n",
              "      <th>yGyro</th>\n",
              "      <th>zGyro</th>\n",
              "      <th>label</th>\n",
              "    </tr>\n",
              "  </thead>\n",
              "  <tbody>\n",
              "    <tr>\n",
              "      <th>0</th>\n",
              "      <td>6.99</td>\n",
              "      <td>-0.57</td>\n",
              "      <td>-7.28</td>\n",
              "      <td>-2.75</td>\n",
              "      <td>-3.23</td>\n",
              "      <td>2.62</td>\n",
              "      <td>fall</td>\n",
              "    </tr>\n",
              "    <tr>\n",
              "      <th>1</th>\n",
              "      <td>6.51</td>\n",
              "      <td>-0.75</td>\n",
              "      <td>-6.93</td>\n",
              "      <td>-0.67</td>\n",
              "      <td>-6.35</td>\n",
              "      <td>4.64</td>\n",
              "      <td>fall</td>\n",
              "    </tr>\n",
              "    <tr>\n",
              "      <th>2</th>\n",
              "      <td>6.22</td>\n",
              "      <td>-0.63</td>\n",
              "      <td>-6.73</td>\n",
              "      <td>0.79</td>\n",
              "      <td>-5.49</td>\n",
              "      <td>3.85</td>\n",
              "      <td>fall</td>\n",
              "    </tr>\n",
              "    <tr>\n",
              "      <th>3</th>\n",
              "      <td>6.34</td>\n",
              "      <td>-0.62</td>\n",
              "      <td>-6.80</td>\n",
              "      <td>1.59</td>\n",
              "      <td>-2.26</td>\n",
              "      <td>0.67</td>\n",
              "      <td>fall</td>\n",
              "    </tr>\n",
              "    <tr>\n",
              "      <th>4</th>\n",
              "      <td>6.49</td>\n",
              "      <td>-0.39</td>\n",
              "      <td>-6.60</td>\n",
              "      <td>0.67</td>\n",
              "      <td>-0.24</td>\n",
              "      <td>-1.10</td>\n",
              "      <td>fall</td>\n",
              "    </tr>\n",
              "  </tbody>\n",
              "</table>\n",
              "</div>"
            ],
            "text/plain": [
              "   xAcc  yAcc  zAcc  xGyro  yGyro  zGyro label\n",
              "0  6.99 -0.57 -7.28  -2.75  -3.23   2.62  fall\n",
              "1  6.51 -0.75 -6.93  -0.67  -6.35   4.64  fall\n",
              "2  6.22 -0.63 -6.73   0.79  -5.49   3.85  fall\n",
              "3  6.34 -0.62 -6.80   1.59  -2.26   0.67  fall\n",
              "4  6.49 -0.39 -6.60   0.67  -0.24  -1.10  fall"
            ]
          },
          "execution_count": 32,
          "metadata": {},
          "output_type": "execute_result"
        }
      ],
      "source": [
        "df_train.head()   #first 5 rows of the data"
      ]
    },
    {
      "cell_type": "code",
      "execution_count": 33,
      "metadata": {
        "colab": {
          "base_uri": "https://localhost:8080/"
        },
        "id": "G_jrF0iA6UFV",
        "outputId": "447f6b70-0f9f-4e9f-fa01-d1e06dc000e6"
      },
      "outputs": [
        {
          "data": {
            "text/plain": [
              "(96800, 7)"
            ]
          },
          "execution_count": 33,
          "metadata": {},
          "output_type": "execute_result"
        }
      ],
      "source": [
        "df_train.shape"
      ]
    },
    {
      "cell_type": "code",
      "execution_count": 34,
      "metadata": {
        "colab": {
          "base_uri": "https://localhost:8080/"
        },
        "id": "lyX2SV5N6UFX",
        "outputId": "8364f9df-1609-46b2-9d47-366488dac91c"
      },
      "outputs": [
        {
          "data": {
            "text/plain": [
              "xAcc     0\n",
              "yAcc     0\n",
              "zAcc     0\n",
              "xGyro    0\n",
              "yGyro    0\n",
              "zGyro    0\n",
              "label    0\n",
              "dtype: int64"
            ]
          },
          "execution_count": 34,
          "metadata": {},
          "output_type": "execute_result"
        }
      ],
      "source": [
        "df_train.isnull().sum()"
      ]
    },
    {
      "cell_type": "code",
      "execution_count": 35,
      "metadata": {
        "colab": {
          "base_uri": "https://localhost:8080/",
          "height": 560
        },
        "id": "pRDxATAO6UFY",
        "outputId": "7d763036-7fb3-418e-970b-705903eef2ed"
      },
      "outputs": [
        {
          "data": {
            "image/png": "[encoded data removed]",
            "text/plain": [
              "<Figure size 1200x600 with 1 Axes>"
            ]
          },
          "metadata": {},
          "output_type": "display_data"
        }
      ],
      "source": [
        "#Now Visualize the class Distribution\n",
        "\n",
        "plt.figure(figsize=(12,6))\n",
        "axis=sns.countplot(x=\"label\",data=df_train)\n",
        "plt.xticks(x=df_train['label'],rotation='vertical')\n",
        "plt.show()"
      ]
    },
    {
      "cell_type": "code",
      "execution_count": 36,
      "metadata": {
        "colab": {
          "base_uri": "https://localhost:8080/"
        },
        "id": "aJDH3b3g6UFa",
        "outputId": "f1c52c19-5f3e-4dfb-829f-52b1d7f7e015"
      },
      "outputs": [
        {
          "name": "stdout",
          "output_type": "stream",
          "text": [
            "\n",
            "Matching indices where column 'label' equals '('fall', 'light', 'sit', 'walk')':\n",
            "Index([    0,     1,     2,     3,     4,     5,     6,     7,     8,     9,\n",
            "       ...\n",
            "       96790, 96791, 96792, 96793, 96794, 96795, 96796, 96797, 96798, 96799],\n",
            "      dtype='int64', length=81201)\n",
            "\n",
            "Number of rows to delete: 56841\n",
            "\n",
            "Indices to delete:\n",
            "[15018 36702 95248 ... 13007 34290 41175]\n",
            "\n",
            "DataFrame after randomly deleting rows where column 'label' equals '('fall', 'light', 'sit', 'walk')':\n",
            "       xAcc  yAcc  zAcc  xGyro  yGyro  zGyro  label\n",
            "2      6.22 -0.63 -6.73   0.79  -5.49   3.85   fall\n",
            "6      6.27 -1.34 -6.97  -2.99   3.85  -1.28   fall\n",
            "7      6.67 -1.01 -7.20  -5.31   5.37   0.98   fall\n",
            "16     6.52 -0.57 -7.24 -17.46   3.30  15.50   fall\n",
            "19     6.71 -0.03 -6.92   2.87  -0.18  -7.93   fall\n",
            "...     ...   ...   ...    ...    ...    ...    ...\n",
            "96790  7.67  1.05 -2.50  52.80  -2.93 -47.67  light\n",
            "96792  8.10 -3.34 -7.43  45.23  -7.14 -46.45  light\n",
            "96794  7.50 -1.83 -5.54  19.90   7.26 -32.04  light\n",
            "96795  7.30 -1.16 -4.58  18.19   3.60 -35.77  light\n",
            "96798  7.58 -2.14 -6.31  19.47   2.44 -22.52  light\n",
            "\n",
            "[39959 rows x 7 columns]\n"
          ]
        }
      ],
      "source": [
        "# Define the column and the string values to look for\n",
        "column_to_delete_from = 'label'\n",
        "values_to_match = ('fall', 'light', 'sit', 'walk')\n",
        "\n",
        "# Define the proportion of rows to delete\n",
        "proportion_to_delete = 0.7  # 70% of the matching rows\n",
        "\n",
        "# Filter rows where the column matches any of the string values\n",
        "matching_indices = df_train[df_train[column_to_delete_from].isin(values_to_match)].index\n",
        "\n",
        "# Debugging: print the matching indices\n",
        "print(\"\\nMatching indices where column '{}' equals '{}':\".format(column_to_delete_from, values_to_match))\n",
        "print(matching_indices)\n",
        "\n",
        "# Calculate the number of rows to delete\n",
        "num_rows_to_delete = int(np.ceil(proportion_to_delete * len(matching_indices)))\n",
        "\n",
        "# Debugging: print the number of rows to delete\n",
        "print(\"\\nNumber of rows to delete:\", num_rows_to_delete)\n",
        "\n",
        "# Check if there are rows to delete\n",
        "if num_rows_to_delete > 0:\n",
        "    # Randomly select indices from the matching indices\n",
        "    indices_to_delete = np.random.choice(matching_indices, size=num_rows_to_delete, replace=False)\n",
        "\n",
        "    # Debugging: print the indices to delete\n",
        "    print(\"\\nIndices to delete:\")\n",
        "    print(indices_to_delete)\n",
        "\n",
        "    # Drop the selected rows\n",
        "    df_train = df_train.drop(indices_to_delete)\n",
        "\n",
        "# Print the modified DataFrame\n",
        "print(\"\\nDataFrame after randomly deleting rows where column '{}' equals '{}':\".format(column_to_delete_from, values_to_match))\n",
        "print(df_train)\n"
      ]
    },
    {
      "cell_type": "code",
      "execution_count": 37,
      "metadata": {
        "colab": {
          "base_uri": "https://localhost:8080/",
          "height": 560
        },
        "id": "LFbRLu5Y6UFc",
        "outputId": "351b8555-d2e5-440f-e305-6cfe6a4eeb1a"
      },
      "outputs": [
        {
          "data": {
            "image/png": "[encoded data removed]",
            "text/plain": [
              "<Figure size 1200x600 with 1 Axes>"
            ]
          },
          "metadata": {},
          "output_type": "display_data"
        }
      ],
      "source": [
        "#Now Visualize the class Distribution\n",
        "\n",
        "plt.figure(figsize=(12,6))\n",
        "axis=sns.countplot(x=\"label\",data=df_train)\n",
        "plt.xticks(x=df_train['label'],rotation='vertical')\n",
        "plt.show()"
      ]
    },
    {
      "cell_type": "code",
      "execution_count": 38,
      "metadata": {
        "colab": {
          "base_uri": "https://localhost:8080/",
          "height": 237
        },
        "id": "RQZrykPs6UFe",
        "outputId": "52789035-ca18-4a58-d251-d3a65c81ef25"
      },
      "outputs": [
        {
          "data": {
            "text/html": [
              "<div>\n",
              "<style scoped>\n",
              "    .dataframe tbody tr th:only-of-type {\n",
              "        vertical-align: middle;\n",
              "    }\n",
              "\n",
              "    .dataframe tbody tr th {\n",
              "        vertical-align: top;\n",
              "    }\n",
              "\n",
              "    .dataframe thead th {\n",
              "        text-align: right;\n",
              "    }\n",
              "</style>\n",
              "<table border=\"1\" class=\"dataframe\">\n",
              "  <thead>\n",
              "    <tr style=\"text-align: right;\">\n",
              "      <th></th>\n",
              "      <th>count</th>\n",
              "      <th>mean</th>\n",
              "      <th>std</th>\n",
              "      <th>min</th>\n",
              "      <th>25%</th>\n",
              "      <th>50%</th>\n",
              "      <th>75%</th>\n",
              "      <th>max</th>\n",
              "    </tr>\n",
              "  </thead>\n",
              "  <tbody>\n",
              "    <tr>\n",
              "      <th>xAcc</th>\n",
              "      <td>39959.0</td>\n",
              "      <td>7.090797</td>\n",
              "      <td>3.140676</td>\n",
              "      <td>-39.24</td>\n",
              "      <td>5.63</td>\n",
              "      <td>6.90</td>\n",
              "      <td>8.29</td>\n",
              "      <td>39.24</td>\n",
              "    </tr>\n",
              "    <tr>\n",
              "      <th>yAcc</th>\n",
              "      <td>39959.0</td>\n",
              "      <td>-1.343018</td>\n",
              "      <td>3.170424</td>\n",
              "      <td>-39.24</td>\n",
              "      <td>-2.87</td>\n",
              "      <td>-1.20</td>\n",
              "      <td>0.39</td>\n",
              "      <td>39.24</td>\n",
              "    </tr>\n",
              "    <tr>\n",
              "      <th>zAcc</th>\n",
              "      <td>39959.0</td>\n",
              "      <td>-2.410759</td>\n",
              "      <td>5.825440</td>\n",
              "      <td>-39.24</td>\n",
              "      <td>-6.14</td>\n",
              "      <td>-4.61</td>\n",
              "      <td>-0.87</td>\n",
              "      <td>39.24</td>\n",
              "    </tr>\n",
              "    <tr>\n",
              "      <th>xGyro</th>\n",
              "      <td>39959.0</td>\n",
              "      <td>-1.202972</td>\n",
              "      <td>34.273723</td>\n",
              "      <td>-483.40</td>\n",
              "      <td>-12.57</td>\n",
              "      <td>-0.49</td>\n",
              "      <td>10.99</td>\n",
              "      <td>439.39</td>\n",
              "    </tr>\n",
              "    <tr>\n",
              "      <th>yGyro</th>\n",
              "      <td>39959.0</td>\n",
              "      <td>-0.641079</td>\n",
              "      <td>24.752708</td>\n",
              "      <td>-406.25</td>\n",
              "      <td>-6.23</td>\n",
              "      <td>0.31</td>\n",
              "      <td>7.02</td>\n",
              "      <td>317.38</td>\n",
              "    </tr>\n",
              "    <tr>\n",
              "      <th>zGyro</th>\n",
              "      <td>39959.0</td>\n",
              "      <td>0.016115</td>\n",
              "      <td>28.510281</td>\n",
              "      <td>-354.00</td>\n",
              "      <td>-10.99</td>\n",
              "      <td>-0.92</td>\n",
              "      <td>11.90</td>\n",
              "      <td>299.19</td>\n",
              "    </tr>\n",
              "  </tbody>\n",
              "</table>\n",
              "</div>"
            ],
            "text/plain": [
              "         count      mean        std     min    25%   50%    75%     max\n",
              "xAcc   39959.0  7.090797   3.140676  -39.24   5.63  6.90   8.29   39.24\n",
              "yAcc   39959.0 -1.343018   3.170424  -39.24  -2.87 -1.20   0.39   39.24\n",
              "zAcc   39959.0 -2.410759   5.825440  -39.24  -6.14 -4.61  -0.87   39.24\n",
              "xGyro  39959.0 -1.202972  34.273723 -483.40 -12.57 -0.49  10.99  439.39\n",
              "yGyro  39959.0 -0.641079  24.752708 -406.25  -6.23  0.31   7.02  317.38\n",
              "zGyro  39959.0  0.016115  28.510281 -354.00 -10.99 -0.92  11.90  299.19"
            ]
          },
          "execution_count": 38,
          "metadata": {},
          "output_type": "execute_result"
        }
      ],
      "source": [
        "df_train.describe().T"
      ]
    },
    {
      "cell_type": "code",
      "execution_count": 39,
      "metadata": {
        "id": "nu0y2ftL6UFf"
      },
      "outputs": [],
      "source": [
        "# Encode the labels\n",
        "label_encoder = LabelEncoder()\n",
        "df_train['label'] = label_encoder.fit_transform(df_train['label'])\n",
        "\n",
        "# Scale the features\n",
        "scaler = StandardScaler()\n",
        "features = df_train[['xAcc', 'yAcc', 'zAcc', 'xGyro', 'yGyro', 'zGyro']]\n",
        "features_scaled = scaler.fit_transform(features)"
      ]
    },
    {
      "cell_type": "code",
      "execution_count": 40,
      "metadata": {
        "colab": {
          "base_uri": "https://localhost:8080/"
        },
        "id": "XOvcHw1n6UFg",
        "outputId": "9fb81514-60d5-4399-c897-102da8149a70"
      },
      "outputs": [
        {
          "name": "stdout",
          "output_type": "stream",
          "text": [
            "[0 3 1 2 4 6 5]\n"
          ]
        }
      ],
      "source": [
        "print(df_train['label'].unique())"
      ]
    },
    {
      "cell_type": "code",
      "execution_count": 41,
      "metadata": {
        "id": "J-2Bgexl6UFh"
      },
      "outputs": [],
      "source": [
        "# Prepare the sequences\n",
        "def create_sequences(features, labels, seq_length=10):\n",
        "    xs, ys = [], []\n",
        "    for i in range(len(features) - seq_length):\n",
        "        x_seq = features[i:i + seq_length]\n",
        "        y_seq = labels.iloc[i + seq_length]\n",
        "        xs.append(x_seq)\n",
        "        ys.append(y_seq)\n",
        "    return np.array(xs), np.array(ys)\n",
        "\n",
        "seq_length = 10\n",
        "X, y = create_sequences(features_scaled, df_train['label'], seq_length)"
      ]
    },
    {
      "cell_type": "code",
      "execution_count": 42,
      "metadata": {
        "colab": {
          "base_uri": "https://localhost:8080/"
        },
        "id": "pfMyv6vOvBh5",
        "outputId": "efe5d36d-9c64-4826-adda-0eebfe579eef"
      },
      "outputs": [
        {
          "name": "stdout",
          "output_type": "stream",
          "text": [
            "Epoch 1/10\n"
          ]
        },
        {
          "name": "stderr",
          "output_type": "stream",
          "text": [
            "C:\\Users\\THE LAPTOP SHOP\\AppData\\Roaming\\Python\\Python311\\site-packages\\keras\\src\\layers\\rnn\\rnn.py:204: UserWarning: Do not pass an `input_shape`/`input_dim` argument to a layer. When using Sequential models, prefer using an `Input(shape)` object as the first layer in the model instead.\n",
            "  super().__init__(**kwargs)\n"
          ]
        },
        {
          "name": "stdout",
          "output_type": "stream",
          "text": [
            "\u001b[1m799/799\u001b[0m \u001b[32m━━━━━━━━━━━━━━━━━━━━\u001b[0m\u001b[37m\u001b[0m \u001b[1m20s\u001b[0m 17ms/step - accuracy: 0.5118 - loss: 1.2685 - val_accuracy: 0.6974 - val_loss: 0.8062\n",
            "Epoch 2/10\n",
            "\u001b[1m799/799\u001b[0m \u001b[32m━━━━━━━━━━━━━━━━━━━━\u001b[0m\u001b[37m\u001b[0m \u001b[1m13s\u001b[0m 16ms/step - accuracy: 0.7116 - loss: 0.7588 - val_accuracy: 0.7444 - val_loss: 0.6620\n",
            "Epoch 3/10\n",
            "\u001b[1m799/799\u001b[0m \u001b[32m━━━━━━━━━━━━━━━━━━━━\u001b[0m\u001b[37m\u001b[0m \u001b[1m13s\u001b[0m 16ms/step - accuracy: 0.7610 - loss: 0.6176 - val_accuracy: 0.7786 - val_loss: 0.5664\n",
            "Epoch 4/10\n",
            "\u001b[1m799/799\u001b[0m \u001b[32m━━━━━━━━━━━━━━━━━━━━\u001b[0m\u001b[37m\u001b[0m \u001b[1m13s\u001b[0m 16ms/step - accuracy: 0.7943 - loss: 0.5309 - val_accuracy: 0.8057 - val_loss: 0.5012\n",
            "Epoch 5/10\n",
            "\u001b[1m799/799\u001b[0m \u001b[32m━━━━━━━━━━━━━━━━━━━━\u001b[0m\u001b[37m\u001b[0m \u001b[1m13s\u001b[0m 17ms/step - accuracy: 0.8204 - loss: 0.4599 - val_accuracy: 0.8148 - val_loss: 0.4622\n",
            "Epoch 6/10\n",
            "\u001b[1m799/799\u001b[0m \u001b[32m━━━━━━━━━━━━━━━━━━━━\u001b[0m\u001b[37m\u001b[0m \u001b[1m14s\u001b[0m 18ms/step - accuracy: 0.8386 - loss: 0.4098 - val_accuracy: 0.8393 - val_loss: 0.4129\n",
            "Epoch 7/10\n",
            "\u001b[1m799/799\u001b[0m \u001b[32m━━━━━━━━━━━━━━━━━━━━\u001b[0m\u001b[37m\u001b[0m \u001b[1m15s\u001b[0m 19ms/step - accuracy: 0.8625 - loss: 0.3594 - val_accuracy: 0.8434 - val_loss: 0.3992\n",
            "Epoch 8/10\n",
            "\u001b[1m799/799\u001b[0m \u001b[32m━━━━━━━━━━━━━━━━━━━━\u001b[0m\u001b[37m\u001b[0m \u001b[1m14s\u001b[0m 18ms/step - accuracy: 0.8738 - loss: 0.3263 - val_accuracy: 0.8614 - val_loss: 0.3592\n",
            "Epoch 9/10\n",
            "\u001b[1m799/799\u001b[0m \u001b[32m━━━━━━━━━━━━━━━━━━━━\u001b[0m\u001b[37m\u001b[0m \u001b[1m15s\u001b[0m 19ms/step - accuracy: 0.8895 - loss: 0.2857 - val_accuracy: 0.8739 - val_loss: 0.3335\n",
            "Epoch 10/10\n",
            "\u001b[1m799/799\u001b[0m \u001b[32m━━━━━━━━━━━━━━━━━━━━\u001b[0m\u001b[37m\u001b[0m \u001b[1m14s\u001b[0m 18ms/step - accuracy: 0.9054 - loss: 0.2540 - val_accuracy: 0.8808 - val_loss: 0.3232\n",
            "\u001b[1m250/250\u001b[0m \u001b[32m━━━━━━━━━━━━━━━━━━━━\u001b[0m\u001b[37m\u001b[0m \u001b[1m2s\u001b[0m 8ms/step - accuracy: 0.8746 - loss: 0.3245\n",
            "Model Accuracy: 86.95%\n"
          ]
        }
      ],
      "source": [
        "# Convert labels to one-hot encoding\n",
        "y = to_categorical(y, num_classes=len(label_encoder.classes_))\n",
        "\n",
        "# Split the data\n",
        "X_train, X_test, y_train, y_test = train_test_split(X, y, test_size=0.2, random_state=42)\n",
        "\n",
        "# Build the LSTM model\n",
        "model = Sequential()\n",
        "model.add(LSTM(64, input_shape=(seq_length, 6), return_sequences=True))\n",
        "model.add(LSTM(64))\n",
        "model.add(Dense(len(label_encoder.classes_), activation='softmax'))\n",
        "\n",
        "model.compile(optimizer='adam', loss='categorical_crossentropy', metrics=['accuracy'])\n",
        "\n",
        "# Train the model\n",
        "history = model.fit(X_train, y_train, epochs=10, batch_size=32, validation_split=0.2)\n",
        "\n",
        "# Save the model\n",
        "# model.save('sensor_model.h5')\n",
        "\n",
        "import pickle\n",
        "import joblib\n",
        "\n",
        "with open('sensor_model_architecture.pkl', 'wb') as f:\n",
        "    pickle.dump(model.to_json(), f)\n",
        "\n",
        "model.save_weights('sensor_model.weights.h5')\n",
        "\n",
        "# Save the scaler and label encoder\n",
        "joblib.dump(scaler, 'scaler.pkl')\n",
        "joblib.dump(label_encoder, 'label_encoder.pkl')\n",
        "\n",
        "\n",
        "# Evaluate the model\n",
        "loss, accuracy = model.evaluate(X_test, y_test)\n",
        "print(f\"Model Accuracy: {accuracy*100:.2f}%\")"
      ]
    },
    {
      "cell_type": "code",
      "execution_count": null,
      "metadata": {},
      "outputs": [],
      "source": []
    }
  ],
  "metadata": {
    "colab": {
      "provenance": []
    },
    "kernelspec": {
      "display_name": "Python 3",
      "name": "python3"
    },
    "language_info": {
      "codemirror_mode": {
        "name": "ipython",
        "version": 3
      },
      "file_extension": ".py",
      "mimetype": "text/x-python",
      "name": "python",
      "nbconvert_exporter": "python",
      "pygments_lexer": "ipython3",
      "version": "3.11.5"
    }
  },
  "nbformat": 4,
  "nbformat_minor": 0
}
